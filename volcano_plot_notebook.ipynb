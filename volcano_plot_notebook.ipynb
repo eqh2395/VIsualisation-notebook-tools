{
 "cells": [
  {
   "cell_type": "markdown",
   "metadata": {},
   "source": [
    "Pip installing some required dependencies"
   ]
  },
  {
   "cell_type": "code",
   "execution_count": 1,
   "metadata": {},
   "outputs": [
    {
     "name": "stdout",
     "output_type": "stream",
     "text": [
      "Requirement already up-to-date: pip in /opt/conda/lib/python3.6/site-packages (18.0)\n",
      "Requirement already satisfied: ffmpeg-python in /opt/conda/lib/python3.6/site-packages (0.1.16)\n",
      "Requirement already satisfied: future in /opt/conda/lib/python3.6/site-packages (from ffmpeg-python) (0.16.0)\n",
      "Requirement already satisfied: moviepy in /opt/conda/lib/python3.6/site-packages (0.2.3.5)\n",
      "Requirement already satisfied: imageio<3.0,>=2.1.2 in /opt/conda/lib/python3.6/site-packages (from moviepy) (2.3.0)\n",
      "Requirement already satisfied: numpy in /opt/conda/lib/python3.6/site-packages (from moviepy) (1.14.5)\n",
      "Requirement already satisfied: decorator<5.0,>=4.0.2 in /opt/conda/lib/python3.6/site-packages (from moviepy) (4.3.0)\n",
      "Requirement already satisfied: tqdm<5.0,>=4.11.2 in /opt/conda/lib/python3.6/site-packages (from moviepy) (4.25.0)\n"
     ]
    }
   ],
   "source": [
    "!pip install --upgrade pip\n",
    "!pip install ffmpeg-python\n",
    "!pip install moviepy"
   ]
  },
  {
   "cell_type": "markdown",
   "metadata": {},
   "source": [
    "Setting matplotlibs backend to agg so dask will not display, before it's imported"
   ]
  },
  {
   "cell_type": "code",
   "execution_count": 1,
   "metadata": {},
   "outputs": [],
   "source": [
    "%matplotlib agg\n",
    "#%matplotlib inline"
   ]
  },
  {
   "cell_type": "code",
   "execution_count": 2,
   "metadata": {},
   "outputs": [],
   "source": [
    "import iris\n",
    "import matplotlib.pyplot as plt\n",
    "import matplotlib.cm as mpl_cm\n",
    "import iris.quickplot as qplt\n",
    "import iris.plot as iplt\n",
    "from mpl_toolkits import mplot3d\n",
    "import numpy as np\n",
    "from iris.experimental.equalise_cubes import equalise_attributes\n",
    "import iris.plot as iplot\n",
    "import iris.analysis.cartography\n",
    "from matplotlib.transforms import offset_copy\n",
    "import cartopy.crs as ccrs\n",
    "import cartopy.io.img_tiles as cimgt\n",
    "import os\n",
    "from iris.cube import CubeList\n",
    "from dask import delayed\n",
    "import dask.bag as db\n",
    "from distributed import Client\n",
    "from matplotlib.widgets import Slider\n",
    "import ffmpeg\n",
    "import subprocess\n",
    "import matplotlib.font_manager as fm\n",
    "import matplotlib.colors as colors\n",
    "from dask_kubernetes import KubeCluster\n",
    "import pickle\n",
    "import matplotlib"
   ]
  },
  {
   "cell_type": "code",
   "execution_count": 3,
   "metadata": {},
   "outputs": [],
   "source": [
    "from moviepy.editor import *\n",
    "import imageio"
   ]
  },
  {
   "cell_type": "code",
   "execution_count": 4,
   "metadata": {},
   "outputs": [],
   "source": [
    "imageio.plugins.ffmpeg.download()"
   ]
  },
  {
   "cell_type": "markdown",
   "metadata": {},
   "source": [
    "Getting filepaths in an appropriate format for plotting"
   ]
  },
  {
   "cell_type": "code",
   "execution_count": 5,
   "metadata": {},
   "outputs": [],
   "source": [
    "def define_filepaths(filepath):\n",
    "    filenames = !ls filepath\n",
    "    filepaths = [os.path.join(filepath, file) for file in filenames]\n",
    "    sequence = list(enumerate(filepaths))\n",
    "    return sequence"
   ]
  },
  {
   "cell_type": "code",
   "execution_count": null,
   "metadata": {},
   "outputs": [],
   "source": [
    "sequence = define_filepaths(__filepath__)"
   ]
  },
  {
   "cell_type": "markdown",
   "metadata": {},
   "source": [
    "Function that makes an iris cube from the file and plots it, saving as png file"
   ]
  },
  {
   "cell_type": "code",
   "execution_count": 7,
   "metadata": {},
   "outputs": [],
   "source": [
    "def get_map_plot(filetuple, save_filepath):\n",
    "    filenumber, filename = filetuple\n",
    "    \n",
    "    cubelist = iris.load(filename)\n",
    "\n",
    "    for c in cubelist:\n",
    "        c.rename('v')\n",
    "        n = int(c.attributes['Z_plus_Z_averaging'][7:10])\n",
    "        c.add_aux_coord(iris.coords.AuxCoord(n, 'height'))\n",
    "    \n",
    "    equalise_attributes(cubelist)\n",
    "    cubelist = cubelist.merge_cube()\n",
    "    cubelist.data = np.ma.masked_where(cubelist.data <= 0.00001, cubelist.data)\n",
    "    cubelist = cubelist.collapsed('height', iris.analysis.SUM)\n",
    "    subset = cubelist[0]#.intersection(longitude=(-18,110), latitude=(0,50))\n",
    "    subset.convert_units('microgram/m3')\n",
    "    \n",
    "    plt.switch_backend('agg')\n",
    "    \n",
    "    MetOfficeFont = fm.FontProperties(fname='/scratch/liz/FSEmeric-Regular.ttf')\n",
    "    MetOfficeFontBold = fm.FontProperties(fname='/scratch/liz/FSEmeric-Heavy.ttf')\n",
    "    \n",
    "    fig, ax = plt.subplots(figsize=(9.6,5.4))\n",
    "    \n",
    "    stamen_terrain = cimgt.StamenTerrain()\n",
    "    fig = plt.axes(projection=stamen_terrain.crs)\n",
    "    fig.add_image(stamen_terrain, 4)\n",
    "    #plt.title('Simulation of sulphur dioxide concentration after 2011 Nabro volcano eruption',  fontproperties=MetOfficeFontBold)\n",
    "    contour_result = iplt.pcolormesh(subset, norm=colors.LogNorm(vmin=9.8203514, vmax=24652.268), cmap=mpl_cm.get_cmap('magma'))\n",
    "    plt.gca().coastlines('50m')\n",
    "    \n",
    "    cbaxes = plt.axes([0.2, 0.25, 0.65, 0.03])\n",
    "    ourcolorbar = plt.colorbar(contour_result, cax=cbaxes, orientation= 'horizontal')\n",
    "    #ourcolorbar.set_ticks([10, 100, 1000, 10000])\n",
    "    #ourcolorbar.set_ticklabels([10, 100, 1000, 10000])\n",
    "    \n",
    "    ourcolorbar.set_label('Sulphur dioxide air concentration (Micrograms/Metre³)', fontproperties=MetOfficeFont, color='#FFFFFF', fontsize=12, bbox=dict(facecolor='#007AA9', edgecolor='#2A2A2A', boxstyle='square'))\n",
    "    \n",
    "    fig.plot(41.7, 13.366667, marker='^', color='#B9DC0C', markersize=7, transform=ccrs.Geodetic())\n",
    "    geodetic_transform = ccrs.Geodetic()._as_mpl_transform(fig)\n",
    "    text_transform = offset_copy(geodetic_transform, units='dots', y=+75)\n",
    "    fig.text(41.7, 13.366667, u'Nabro', fontproperties=MetOfficeFont, alpha=0.7, fontsize=12,verticalalignment='center', horizontalalignment='right',transform=text_transform,bbox=dict(facecolor='#B9DC0C', edgecolor='#2A2A2A', boxstyle='round'))\n",
    "    \n",
    "    attributedict = subset.attributes\n",
    "    datetime = attributedict.get('time')\n",
    "    timetransform = offset_copy(geodetic_transform, units='dots', y=0)\n",
    "    fig.text(60, 0, \"Time, date: \"+ datetime[:2] + ':' + datetime[2:], fontproperties=MetOfficeFont, alpha=0.7, fontsize=12 , transform=timetransform, bbox=dict(facecolor='#B9DC0C', edgecolor='#2A2A2A', boxstyle='round'))\n",
    "    \n",
    "    titleaxes = plt.axes([0.2, 0.8, 0.65, 0.04], facecolor='#007AA9')\n",
    "    titleaxes.text(0.5,0.25,'Simulation of sulphur dioxide concentration after 2011 Nabro volcano eruption', horizontalalignment = 'center',  fontproperties=MetOfficeFontBold, color = '#FFFFFF')\n",
    "    titleaxes.set_yticks([])\n",
    "    titleaxes.set_xticks([])\n",
    "\n",
    "        \n",
    "    #picturename = \"%04i.png\" % filenumber\n",
    "    picturename = save_filepath + \"%04i.png\" % filenumber\n",
    "    plt.savefig(picturename, dpi=200, frameon=False, bbox_inches='tight')\n",
    "    #plt.show()"
   ]
  },
  {
   "cell_type": "markdown",
   "metadata": {},
   "source": [
    "Defining dask scheduler"
   ]
  },
  {
   "cell_type": "code",
   "execution_count": 8,
   "metadata": {},
   "outputs": [],
   "source": [
    "#cluster = KubeCluster.from_yaml('/temp/worker-template.yaml')\n",
    "cluster = KubeCluster()"
   ]
  },
  {
   "cell_type": "code",
   "execution_count": 9,
   "metadata": {},
   "outputs": [
    {
     "data": {
      "application/vnd.jupyter.widget-view+json": {
       "model_id": "ebf1fa5e979a47e99250956ab76a9cc9",
       "version_major": 2,
       "version_minor": 0
      },
      "text/plain": [
       "VBox(children=(HTML(value='<h2>KubeCluster</h2>'), HBox(children=(HTML(value='\\n<div>\\n  <style scoped>\\n    .…"
      ]
     },
     "metadata": {},
     "output_type": "display_data"
    }
   ],
   "source": [
    "cluster"
   ]
  },
  {
   "cell_type": "code",
   "execution_count": 10,
   "metadata": {},
   "outputs": [],
   "source": [
    "_ = cluster.scale(10)"
   ]
  },
  {
   "cell_type": "code",
   "execution_count": 10,
   "metadata": {},
   "outputs": [],
   "source": [
    "client = Client(cluster.scheduler_address)"
   ]
  },
  {
   "cell_type": "code",
   "execution_count": 11,
   "metadata": {},
   "outputs": [
    {
     "data": {
      "text/html": [
       "<table style=\"border: 2px solid white;\">\n",
       "<tr>\n",
       "<td style=\"vertical-align: top; border: 0px solid white\">\n",
       "<h3>Client</h3>\n",
       "<ul>\n",
       "  <li><b>Scheduler: </b>tcp://100.97.109.20:42745\n",
       "  <li><b>Dashboard: </b><a href='http://100.97.109.20:8787/status' target='_blank'>http://100.97.109.20:8787/status</a>\n",
       "</ul>\n",
       "</td>\n",
       "<td style=\"vertical-align: top; border: 0px solid white\">\n",
       "<h3>Cluster</h3>\n",
       "<ul>\n",
       "  <li><b>Workers: </b>6</li>\n",
       "  <li><b>Cores: </b>6</li>\n",
       "  <li><b>Memory: </b>36.00 GB</li>\n",
       "</ul>\n",
       "</td>\n",
       "</tr>\n",
       "</table>"
      ],
      "text/plain": [
       "<Client: scheduler='tcp://100.97.109.20:42745' processes=6 cores=6>"
      ]
     },
     "execution_count": 11,
     "metadata": {},
     "output_type": "execute_result"
    }
   ],
   "source": [
    "client"
   ]
  },
  {
   "cell_type": "markdown",
   "metadata": {},
   "source": [
    "Running plots function on all filepaths with dask"
   ]
  },
  {
   "cell_type": "code",
   "execution_count": 14,
   "metadata": {},
   "outputs": [],
   "source": [
    "make_plots = db.from_sequence(sequence).map(get_map_plot)\n",
    "plotting = make_plots.compute()"
   ]
  },
  {
   "cell_type": "markdown",
   "metadata": {},
   "source": [
    "Making video with ffmpeg"
   ]
  },
  {
   "cell_type": "code",
   "execution_count": 15,
   "metadata": {},
   "outputs": [
    {
     "data": {
      "text/plain": [
       "0"
      ]
     },
     "execution_count": 15,
     "metadata": {},
     "output_type": "execute_result"
    }
   ],
   "source": [
    "def make_video(end_vid, save_filepath):\n",
    "    return_value = subprocess.call([\"ffmpeg\", \"-i\", save_filepath, \"-vcodec\", \"mpeg4\", end_vid])\n",
    "    return return_value\n",
    "\n",
    "make_video(__end_vid__, __save_filepath__)"
   ]
  },
  {
   "cell_type": "markdown",
   "metadata": {},
   "source": [
    "Some more options we didn't need in this video - resizing it's bytes, and interpolating the frames."
   ]
  },
  {
   "cell_type": "code",
   "execution_count": null,
   "metadata": {},
   "outputs": [],
   "source": [
    "clip = mp.VideoFileClip(\"volcano_test_vid_minterpolate.mp4\")\n",
    "clip_resized = clip.resize(height=1000)\n",
    "clip_resized.write_videofile(\"volcano_test_new.mp4\")"
   ]
  },
  {
   "cell_type": "code",
   "execution_count": null,
   "metadata": {},
   "outputs": [],
   "source": [
    "def smooth_existing_video(video):\n",
    "    return_value = subprocess.call([\"/home/jovyan/.imageio/ffmpeg/ffmpeg-linux64-v3.3.1\", \"-i\", video, \"-filter\", \"minterpolate\", \"really_hopefully_minterpolated.mp4\"])\n",
    "    return return_value\n",
    "\n",
    "smooth_existing_video(\"/home/jovyan/Summer-projects/volcano_test_vid_minterpolate.mp4\")"
   ]
  }
 ],
 "metadata": {
  "kernelspec": {
   "display_name": "Python [conda env:conda]",
   "language": "python",
   "name": "conda-env-conda-py"
  },
  "language_info": {
   "codemirror_mode": {
    "name": "ipython",
    "version": 3
   },
   "file_extension": ".py",
   "mimetype": "text/x-python",
   "name": "python",
   "nbconvert_exporter": "python",
   "pygments_lexer": "ipython3",
   "version": "3.6.3"
  }
 },
 "nbformat": 4,
 "nbformat_minor": 2
}
